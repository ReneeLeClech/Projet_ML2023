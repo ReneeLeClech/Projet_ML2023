{
 "cells": [
  {
   "cell_type": "markdown",
   "metadata": {},
   "source": [
    "Dossier test/train\n",
    "Script qui permet de creer 2 dossiers: un dossier raw_train qui convient 20% des images en gris qui servent à entrainer le modèle et un dossier raw_test qui contient 80% des images qui vont servir à tester le modèle\n"
   ]
  },
  {
   "cell_type": "code",
   "execution_count": 2,
   "metadata": {},
   "outputs": [],
   "source": [
    "import os\n",
    "import random\n",
    "import shutil"
   ]
  },
  {
   "cell_type": "code",
   "execution_count": 4,
   "metadata": {},
   "outputs": [],
   "source": [
    "# Define the paths\n",
    "directory= \"C:/Users/renax/Desktop/ACO/S9/Machine_Learning/plantvillage_deeplearning_paper_dataset/raw\" # Replace with the path to your data folder\n",
    "data_folder = os.path.join(directory, \"grayscale\")\n",
    "# List to store the paths of all images\n",
    "all_image_paths = []"
   ]
  },
  {
   "cell_type": "code",
   "execution_count": 7,
   "metadata": {},
   "outputs": [],
   "source": [
    "# Loop through each class folder and collect image paths\n",
    "for class_folder in os.listdir(data_folder):\n",
    "    class_path = os.path.join(data_folder, class_folder)\n",
    "    \n",
    "    # Get a list of all image files in the class folder\n",
    "    image_files = [os.path.join(class_path, f) for f in os.listdir(class_path) if f.endswith(\".JPG\")]\n",
    "    \n",
    "    all_image_paths.extend(image_files)\n"
   ]
  },
  {
   "cell_type": "code",
   "execution_count": 16,
   "metadata": {},
   "outputs": [
    {
     "name": "stdout",
     "output_type": "stream",
     "text": [
      "15840\n"
     ]
    }
   ],
   "source": [
    "# Randomly select 10% of all image paths\n",
    "selected_image_paths = random.sample(all_image_paths, int(0.10 * len(all_image_paths)))\n",
    "\n",
    "print(len(selected_image_paths))\n"
   ]
  },
  {
   "cell_type": "code",
   "execution_count": 17,
   "metadata": {},
   "outputs": [],
   "source": [
    "from sklearn.model_selection import train_test_split"
   ]
  },
  {
   "cell_type": "code",
   "execution_count": 18,
   "metadata": {},
   "outputs": [],
   "source": [
    "# Split the selected image paths into train and test sets (80% train, 20% test)\n",
    "train_image_paths, test_image_paths = train_test_split(selected_image_paths, test_size=0.20, random_state=42)\n",
    "\n",
    "# Create train and test folders in the output directory\n",
    "train_folder = os.path.join(directory, \"grayscale_train\")\n",
    "test_folder = os.path.join(directory, \"grayscale_test\")\n",
    "os.makedirs(train_folder, exist_ok=True)\n",
    "os.makedirs(test_folder, exist_ok=True)\n"
   ]
  },
  {
   "cell_type": "code",
   "execution_count": 19,
   "metadata": {},
   "outputs": [],
   "source": [
    "\n",
    "# Copy selected train images to the train folder\n",
    "for image_path in train_image_paths:\n",
    "    class_folder = os.path.basename(os.path.dirname(image_path))\n",
    "    dest_path = os.path.join(train_folder, class_folder, os.path.basename(image_path))\n",
    "    os.makedirs(os.path.dirname(dest_path), exist_ok=True)\n",
    "    shutil.copy(image_path, dest_path)\n",
    "\n",
    "# Copy selected test images to the test folder\n",
    "for image_path in test_image_paths:\n",
    "    class_folder = os.path.basename(os.path.dirname(image_path))\n",
    "    dest_path = os.path.join(test_folder, class_folder, os.path.basename(image_path))\n",
    "    os.makedirs(os.path.dirname(dest_path), exist_ok=True)\n",
    "    shutil.copy(image_path, dest_path)"
   ]
  }
 ],
 "metadata": {
  "kernelspec": {
   "display_name": "Python 3",
   "language": "python",
   "name": "python3"
  },
  "language_info": {
   "codemirror_mode": {
    "name": "ipython",
    "version": 3
   },
   "file_extension": ".py",
   "mimetype": "text/x-python",
   "name": "python",
   "nbconvert_exporter": "python",
   "pygments_lexer": "ipython3",
   "version": "3.11.5"
  }
 },
 "nbformat": 4,
 "nbformat_minor": 2
}
