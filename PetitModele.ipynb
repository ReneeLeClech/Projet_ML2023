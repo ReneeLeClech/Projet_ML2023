{
 "cells": [
  {
   "cell_type": "code",
   "execution_count": 37,
   "metadata": {},
   "outputs": [],
   "source": [
    "import os\n",
    "import torch\n",
    "import torch.nn as nn\n",
    "import torchvision.transforms as transforms\n",
    "from torch.utils.data import DataLoader\n",
    "from torchvision.datasets import ImageFolder \n",
    "import torch.optim as optim\n",
    "from torch.optim import lr_scheduler\n",
    "from torch.optim.lr_scheduler import StepLR \n",
    "from PIL import Image\n",
    "from sklearn.metrics import f1_score"
   ]
  },
  {
   "cell_type": "code",
   "execution_count": 38,
   "metadata": {},
   "outputs": [],
   "source": [
    "# Define the transform to resize images to (255, 255)\n",
    "transform = transforms.Compose([\n",
    "    transforms.Resize((255, 255)),\n",
    "    transforms.ToTensor(),\n",
    "    transforms.Grayscale()\n",
    "])\n",
    "\n",
    "\n",
    "train_path= \"C:/Users/renax/Desktop/ACO/S9/Machine_Learning/plantvillage_deeplearning_paper_dataset/raw/grayscale_train\"\n",
    "test_path= \"C:/Users/renax/Desktop/ACO/S9/Machine_Learning/plantvillage_deeplearning_paper_dataset/raw/grayscale_test\"\n",
    "# Define your dataset using ImageFolder and apply the transform\n",
    "train_dataset = ImageFolder(root=train_path, transform=transform)\n",
    "test_dataset = ImageFolder(root=test_path, transform=transform)\n"
   ]
  },
  {
   "cell_type": "code",
   "execution_count": 39,
   "metadata": {},
   "outputs": [],
   "source": [
    "\n",
    "# Define the number of data loading workers\n",
    "num_workers = 3  # You can adjust this number based on your CPU capacity\n",
    "\n",
    "# Create data loaders with multiple workers\n",
    "train_loader = DataLoader(train_dataset, batch_size=32, shuffle=True, num_workers=num_workers)\n",
    "test_loader = DataLoader(test_dataset, batch_size=32, num_workers=num_workers)\n",
    "\n"
   ]
  },
  {
   "cell_type": "code",
   "execution_count": 40,
   "metadata": {},
   "outputs": [],
   "source": [
    "\n",
    "# Define a simple neural network model\n",
    "class SimpleModel(nn.Module):\n",
    "    def __init__(self):\n",
    "        super(SimpleModel, self).__init__()\n",
    "        self.conv1 = nn.Conv2d(1, 16, kernel_size=3, padding=1)\n",
    "        self.pool = nn.MaxPool2d(kernel_size=2, stride=2)\n",
    "        self.fc1 = nn.Linear(16 * 127 * 127, 128)\n",
    "        self.fc2 = nn.Linear(128, 38)  # 38 output classes\n",
    "\n",
    "    def forward(self, x):\n",
    "        x = self.pool(torch.relu(self.conv1(x)))\n",
    "        x = x.view(-1, 16 * 127 * 127)\n",
    "        x = torch.relu(self.fc1(x))\n",
    "        x = self.fc2(x)\n",
    "        return x\n",
    "\n"
   ]
  },
  {
   "cell_type": "code",
   "execution_count": 41,
   "metadata": {},
   "outputs": [],
   "source": [
    "# Create an instance of the model\n",
    "model = SimpleModel()\n",
    "\n",
    "# Define loss and optimizer\n",
    "criterion = nn.CrossEntropyLoss() \n",
    "\n",
    "optimizer = optim.SGD(\n",
    "    model.parameters(),\n",
    "    lr=0.005,  # Base learning rate\n",
    "    momentum=0.9,\n",
    "    weight_decay=0.0005,  # Weight decay\n",
    ")\n",
    "\n",
    "lr_scheduler = StepLR(optimizer, step_size=30, gamma=0.1)\n"
   ]
  },
  {
   "cell_type": "code",
   "execution_count": 42,
   "metadata": {},
   "outputs": [],
   "source": [
    "epochs= 5"
   ]
  },
  {
   "cell_type": "code",
   "execution_count": 43,
   "metadata": {},
   "outputs": [
    {
     "name": "stdout",
     "output_type": "stream",
     "text": [
      "Epoch 1/5, Loss: 2.5750348567962646, Test Accuracy: 39.82642237222758%, Test F1 Score: 0.34725410053952\n",
      "Epoch 2/5, Loss: 1.7169314622879028, Test Accuracy: 45.38733526197364%, Test F1 Score: 0.41957738353105034\n"
     ]
    }
   ],
   "source": [
    "\n",
    "# Training loop (you can modify this based on your specific requirements)\n",
    "for epoch in range(epochs):\n",
    "    for images, labels in train_loader:\n",
    "        optimizer.zero_grad()\n",
    "        outputs = model(images)\n",
    "        loss = criterion(outputs, labels)\n",
    "        loss.backward()\n",
    "        optimizer.step()\n",
    "\n",
    " # Step the learning rate scheduler at the end of each epoch\n",
    "    lr_scheduler.step()\n",
    "\n",
    "    # Calculate accuracy on the test set (optional)\n",
    "    correct = 0\n",
    "    total = 0\n",
    "    true_labels = []\n",
    "    predicted_labels = []\n",
    "    with torch.no_grad():\n",
    "        for images, labels in test_loader:\n",
    "            outputs = model(images)\n",
    "            _, predicted = torch.max(outputs.data, 1)\n",
    "            total += labels.size(0)\n",
    "            correct += (predicted == labels).sum().item()\n",
    "            true_labels.extend(labels.tolist())\n",
    "            predicted_labels.extend(predicted.tolist())\n",
    "\n",
    "    accuracy = 100 * correct / total\n",
    "    f1 = f1_score(true_labels, predicted_labels, average='weighted') \n",
    "    print(f'Epoch {epoch+1}/{epochs}, Loss: {loss.item()}, Test Accuracy: {accuracy}%, Test F1 Score: {f1}')"
   ]
  }
 ],
 "metadata": {
  "kernelspec": {
   "display_name": "Python 3",
   "language": "python",
   "name": "python3"
  },
  "language_info": {
   "codemirror_mode": {
    "name": "ipython",
    "version": 3
   },
   "file_extension": ".py",
   "mimetype": "text/x-python",
   "name": "python",
   "nbconvert_exporter": "python",
   "pygments_lexer": "ipython3",
   "version": "3.11.5"
  }
 },
 "nbformat": 4,
 "nbformat_minor": 2
}
