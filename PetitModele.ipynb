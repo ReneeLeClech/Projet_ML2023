{
 "cells": [
  {
   "cell_type": "code",
   "execution_count": 1,
   "metadata": {},
   "outputs": [],
   "source": [
    "import os\n",
    "import torch\n",
    "import torch.nn as nn\n",
    "import torchvision.transforms as transforms\n",
    "from torch.utils.data import DataLoader\n",
    "from torchvision.datasets import ImageFolder \n",
    "import torch.optim as optim\n",
    "from torch.optim import lr_scheduler\n",
    "from torch.optim.lr_scheduler import StepLR \n",
    "from PIL import Image\n",
    "from sklearn.metrics import f1_score"
   ]
  },
  {
   "cell_type": "code",
   "execution_count": 2,
   "metadata": {},
   "outputs": [],
   "source": [
    "# Define the transform to resize images to (255, 255)\n",
    "transform = transforms.Compose([\n",
    "    transforms.Resize((255, 255)),\n",
    "    transforms.ToTensor(),\n",
    "    transforms.Grayscale()\n",
    "])\n",
    "\n",
    "\n",
    "train_path= \"C:/Users/renax/Desktop/ACO/S9/Machine_Learning/plantvillage_deeplearning_paper_dataset/raw/grayscale_train\"\n",
    "test_path= \"C:/Users/renax/Desktop/ACO/S9/Machine_Learning/plantvillage_deeplearning_paper_dataset/raw/grayscale_test\"\n",
    "# Define your dataset using ImageFolder and apply the transform\n",
    "train_dataset = ImageFolder(root=train_path, transform=transform)\n",
    "test_dataset = ImageFolder(root=test_path, transform=transform)\n"
   ]
  },
  {
   "cell_type": "code",
   "execution_count": 8,
   "metadata": {},
   "outputs": [],
   "source": [
    "\n",
    "# Define the number of data loading workers\n",
    "num_workers = 5  # You can adjust this number based on your CPU capacity\n",
    "\n",
    "# Create data loaders with multiple workers\n",
    "train_loader = DataLoader(train_dataset, batch_size=32, shuffle=True, num_workers=num_workers)\n",
    "test_loader = DataLoader(test_dataset, batch_size=32, num_workers=num_workers)\n",
    "\n"
   ]
  },
  {
   "cell_type": "code",
   "execution_count": 9,
   "metadata": {},
   "outputs": [],
   "source": [
    "\n",
    "# Define a simple neural network model\n",
    "class SimpleModel(nn.Module):\n",
    "    def __init__(self):\n",
    "        super(SimpleModel, self).__init__()\n",
    "        self.conv1 = nn.Conv2d(1, 16, kernel_size=3, padding=1)\n",
    "        self.pool = nn.MaxPool2d(kernel_size=2, stride=2)\n",
    "        self.fc1 = nn.Linear(16 * 127 * 127, 128)\n",
    "        self.fc2 = nn.Linear(128, 38)  # 38 output classes\n",
    "\n",
    "    def forward(self, x):\n",
    "        x = self.pool(torch.relu(self.conv1(x)))\n",
    "        x = x.view(-1, 16 * 127 * 127)\n",
    "        x = torch.relu(self.fc1(x))\n",
    "        x = self.fc2(x)\n",
    "        return x\n",
    "\n"
   ]
  },
  {
   "cell_type": "code",
   "execution_count": 10,
   "metadata": {},
   "outputs": [],
   "source": [
    "# Create an instance of the model\n",
    "model = SimpleModel()\n",
    "\n",
    "# Define loss and optimizer\n",
    "criterion = nn.CrossEntropyLoss() \n",
    "\n",
    "optimizer = optim.SGD(\n",
    "    model.parameters(),\n",
    "    lr=0.005,  # Base learning rate\n",
    "    momentum=0.9,\n",
    "    weight_decay=0.0005,  # Weight decay\n",
    ")\n",
    "\n",
    "lr_scheduler = StepLR(optimizer, step_size=30, gamma=0.1)\n"
   ]
  },
  {
   "cell_type": "code",
   "execution_count": 11,
   "metadata": {},
   "outputs": [],
   "source": [
    "epochs= 30"
   ]
  },
  {
   "cell_type": "code",
   "execution_count": 12,
   "metadata": {},
   "outputs": [
    {
     "name": "stdout",
     "output_type": "stream",
     "text": [
      "Epoch 1/30, Loss: 1.5420483350753784, Test Accuracy: 39.44069431051109%, Test F1 Score: 0.3218016556549692\n",
      "Epoch 2/30, Loss: 2.148728847503662, Test Accuracy: 41.1764705882353%, Test F1 Score: 0.35407520032941425\n",
      "Epoch 3/30, Loss: 1.9140011072158813, Test Accuracy: 47.380263580842175%, Test F1 Score: 0.44554185726012013\n",
      "Epoch 4/30, Loss: 1.5047839879989624, Test Accuracy: 47.798135647701706%, Test F1 Score: 0.4393201539172862\n",
      "Epoch 5/30, Loss: 1.446469783782959, Test Accuracy: 52.619736419157825%, Test F1 Score: 0.5182733539781756\n",
      "Epoch 6/30, Loss: 1.4885807037353516, Test Accuracy: 53.61620057859209%, Test F1 Score: 0.5014741383053246\n",
      "Epoch 7/30, Loss: 0.7737486362457275, Test Accuracy: 53.61620057859209%, Test F1 Score: 0.5219987846126846\n",
      "Epoch 8/30, Loss: 0.6761755347251892, Test Accuracy: 57.955641272902604%, Test F1 Score: 0.554637046410952\n",
      "Epoch 9/30, Loss: 0.6287909150123596, Test Accuracy: 59.65927354548377%, Test F1 Score: 0.5822755831332929\n",
      "Epoch 10/30, Loss: 0.7971015572547913, Test Accuracy: 56.57344905175185%, Test F1 Score: 0.5698330428539798\n",
      "Epoch 11/30, Loss: 0.2733096182346344, Test Accuracy: 62.90581806493089%, Test F1 Score: 0.6228151899432891\n",
      "Epoch 12/30, Loss: 0.3167931139469147, Test Accuracy: 63.67727418836387%, Test F1 Score: 0.628057343597984\n",
      "Epoch 13/30, Loss: 0.09495073556900024, Test Accuracy: 63.51655416264867%, Test F1 Score: 0.6367726961796616\n",
      "Epoch 14/30, Loss: 0.1318705826997757, Test Accuracy: 65.22018643522983%, Test F1 Score: 0.6463021136763489\n",
      "Epoch 15/30, Loss: 0.03395581990480423, Test Accuracy: 65.60591449694633%, Test F1 Score: 0.6436704350665781\n",
      "Epoch 16/30, Loss: 0.019811851903796196, Test Accuracy: 67.53455480552877%, Test F1 Score: 0.6704217790848643\n",
      "Epoch 17/30, Loss: 0.06294342875480652, Test Accuracy: 66.66666666666667%, Test F1 Score: 0.6607348354305081\n",
      "Epoch 18/30, Loss: 0.006738824304193258, Test Accuracy: 68.04885888781742%, Test F1 Score: 0.6782310747562115\n",
      "Epoch 19/30, Loss: 0.015703903511166573, Test Accuracy: 67.88813886210222%, Test F1 Score: 0.6753990122923855\n",
      "Epoch 20/30, Loss: 0.0074675739742815495, Test Accuracy: 68.04885888781742%, Test F1 Score: 0.6769057035348437\n",
      "Epoch 21/30, Loss: 0.003892592154443264, Test Accuracy: 68.2738669238187%, Test F1 Score: 0.6772011228122824\n",
      "Epoch 22/30, Loss: 0.00593643868342042, Test Accuracy: 67.82385085181613%, Test F1 Score: 0.6742661355736645\n",
      "Epoch 23/30, Loss: 0.011993876658380032, Test Accuracy: 68.01671488267438%, Test F1 Score: 0.6760815794382526\n",
      "Epoch 24/30, Loss: 0.012240630574524403, Test Accuracy: 67.88813886210222%, Test F1 Score: 0.6759522217759766\n",
      "Epoch 25/30, Loss: 0.0038860745262354612, Test Accuracy: 67.88813886210222%, Test F1 Score: 0.6738263629421145\n",
      "Epoch 26/30, Loss: 0.006012689787894487, Test Accuracy: 67.98457087753134%, Test F1 Score: 0.6772525285225807\n",
      "Epoch 27/30, Loss: 0.00532130291685462, Test Accuracy: 68.11314689810351%, Test F1 Score: 0.6762439628299233\n",
      "Epoch 28/30, Loss: 0.005167136434465647, Test Accuracy: 68.08100289296047%, Test F1 Score: 0.6760904748991196\n",
      "Epoch 29/30, Loss: 0.005061861593276262, Test Accuracy: 67.9524268723883%, Test F1 Score: 0.6746514581541561\n",
      "Epoch 30/30, Loss: 0.0026662417221814394, Test Accuracy: 67.69527483124398%, Test F1 Score: 0.6743557425782573\n"
     ]
    }
   ],
   "source": [
    "\n",
    "# Training loop (you can modify this based on your specific requirements)\n",
    "for epoch in range(epochs):\n",
    "    for images, labels in train_loader:\n",
    "        optimizer.zero_grad()\n",
    "        outputs = model(images)\n",
    "        loss = criterion(outputs, labels)\n",
    "        loss.backward()\n",
    "        optimizer.step()\n",
    "\n",
    " # Step the learning rate scheduler at the end of each epoch\n",
    "    lr_scheduler.step()\n",
    "\n",
    "    # Calculate accuracy on the test set (optional)\n",
    "    correct = 0\n",
    "    total = 0\n",
    "    true_labels = []\n",
    "    predicted_labels = []\n",
    "    with torch.no_grad():\n",
    "        for images, labels in test_loader:\n",
    "            outputs = model(images)\n",
    "            _, predicted = torch.max(outputs.data, 1)\n",
    "            total += labels.size(0)\n",
    "            correct += (predicted == labels).sum().item()\n",
    "            true_labels.extend(labels.tolist())\n",
    "            predicted_labels.extend(predicted.tolist())\n",
    "\n",
    "    accuracy = 100 * correct / total\n",
    "    f1 = f1_score(true_labels, predicted_labels, average='weighted') \n",
    "    print(f'Epoch {epoch+1}/{epochs}, Loss: {loss.item()}, Test Accuracy: {accuracy}%, Test F1 Score: {f1}')"
   ]
  }
 ],
 "metadata": {
  "kernelspec": {
   "display_name": "Python 3",
   "language": "python",
   "name": "python3"
  },
  "language_info": {
   "codemirror_mode": {
    "name": "ipython",
    "version": 3
   },
   "file_extension": ".py",
   "mimetype": "text/x-python",
   "name": "python",
   "nbconvert_exporter": "python",
   "pygments_lexer": "ipython3",
   "version": "3.11.5"
  }
 },
 "nbformat": 4,
 "nbformat_minor": 2
}
