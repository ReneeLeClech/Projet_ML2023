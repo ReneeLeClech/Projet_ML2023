{
 "cells": [
  {
   "cell_type": "code",
   "execution_count": 21,
   "metadata": {},
   "outputs": [],
   "source": [
    "import os\n",
    "import torch\n",
    "import torch.nn as nn\n",
    "import torchvision.transforms as transforms\n",
    "from torch.utils.data import DataLoader\n",
    "from torchvision.datasets import ImageFolder \n",
    "import torch.optim as optim\n",
    "from torch.optim import lr_scheduler\n",
    "from torch.optim.lr_scheduler import StepLR \n",
    "from PIL import Image\n",
    "from sklearn.metrics import f1_score\n",
    "import matplotlib.pyplot as plt\n",
    "import pandas as pd"
   ]
  },
  {
   "cell_type": "code",
   "execution_count": 12,
   "metadata": {},
   "outputs": [],
   "source": [
    "# Define the transform to resize images to (255, 255)\n",
    "transform = transforms.Compose([\n",
    "    transforms.Resize((255, 255)),\n",
    "    transforms.ToTensor(),\n",
    "    transforms.Grayscale()\n",
    "])\n",
    "\n",
    "\n",
    "train_path= \"C:/Users/renax/Desktop/ACO/S9/Machine_Learning/plantvillage_deeplearning_paper_dataset/raw/grayscale_train\"\n",
    "test_path= \"C:/Users/renax/Desktop/ACO/S9/Machine_Learning/plantvillage_deeplearning_paper_dataset/raw/grayscale_test\"\n",
    "# Define your dataset using ImageFolder and apply the transform\n",
    "train_dataset = ImageFolder(root=train_path, transform=transform)\n",
    "test_dataset = ImageFolder(root=test_path, transform=transform)\n"
   ]
  },
  {
   "cell_type": "code",
   "execution_count": 13,
   "metadata": {},
   "outputs": [],
   "source": [
    "\n",
    "# Define the number of data loading workers\n",
    "num_workers = 5  # You can adjust this number based on your CPU capacity\n",
    "\n",
    "# Create data loaders with multiple workers\n",
    "train_loader = DataLoader(train_dataset, batch_size=32, shuffle=True, num_workers=num_workers)\n",
    "test_loader = DataLoader(test_dataset, batch_size=32, num_workers=num_workers)\n",
    "\n"
   ]
  },
  {
   "cell_type": "code",
   "execution_count": 14,
   "metadata": {},
   "outputs": [],
   "source": [
    "\n",
    "# Define a simple neural network model\n",
    "class SimpleModel(nn.Module):\n",
    "    def __init__(self):\n",
    "        super(SimpleModel, self).__init__()\n",
    "        self.conv1 = nn.Conv2d(1, 16, kernel_size=3, padding=1)\n",
    "        self.pool = nn.MaxPool2d(kernel_size=2, stride=2)\n",
    "        self.fc1 = nn.Linear(16 * 127 * 127, 128)\n",
    "        self.fc2 = nn.Linear(128, 38)  # 38 output classes\n",
    "\n",
    "    def forward(self, x):\n",
    "        x = self.pool(torch.relu(self.conv1(x)))\n",
    "        x = x.view(-1, 16 * 127 * 127)\n",
    "        x = torch.relu(self.fc1(x))\n",
    "        x = self.fc2(x)\n",
    "        return x\n",
    "\n"
   ]
  },
  {
   "cell_type": "code",
   "execution_count": 15,
   "metadata": {},
   "outputs": [],
   "source": [
    "# Create an instance of the model\n",
    "model = SimpleModel()\n",
    "\n",
    "# Define loss and optimizer\n",
    "criterion = nn.CrossEntropyLoss() \n",
    "\n",
    "optimizer = optim.SGD(\n",
    "    model.parameters(),\n",
    "    lr=0.005,  # Base learning rate\n",
    "    momentum=0.9,\n",
    "    weight_decay=0.0005,  # Weight decay\n",
    ")\n",
    "\n",
    "lr_scheduler = StepLR(optimizer, step_size=30, gamma=0.1)\n"
   ]
  },
  {
   "cell_type": "code",
   "execution_count": 19,
   "metadata": {},
   "outputs": [],
   "source": [
    "epochs= 30"
   ]
  },
  {
   "cell_type": "code",
   "execution_count": 17,
   "metadata": {},
   "outputs": [
    {
     "ename": "KeyboardInterrupt",
     "evalue": "",
     "output_type": "error",
     "traceback": [
      "\u001b[1;31m---------------------------------------------------------------------------\u001b[0m",
      "\u001b[1;31mKeyboardInterrupt\u001b[0m                         Traceback (most recent call last)",
      "\u001b[1;32mc:\\Users\\renax\\Desktop\\ACO\\S9\\Machine_Learning\\ML_Conf\\Projet_ML2023\\PetitModele.ipynb Cell 7\u001b[0m line \u001b[0;36m3\n\u001b[0;32m      <a href='vscode-notebook-cell:/c%3A/Users/renax/Desktop/ACO/S9/Machine_Learning/ML_Conf/Projet_ML2023/PetitModele.ipynb#W6sZmlsZQ%3D%3D?line=0'>1</a>\u001b[0m \u001b[39m# Training loop (you can modify this based on your specific requirements)\u001b[39;00m\n\u001b[0;32m      <a href='vscode-notebook-cell:/c%3A/Users/renax/Desktop/ACO/S9/Machine_Learning/ML_Conf/Projet_ML2023/PetitModele.ipynb#W6sZmlsZQ%3D%3D?line=1'>2</a>\u001b[0m \u001b[39mfor\u001b[39;00m epoch \u001b[39min\u001b[39;00m \u001b[39mrange\u001b[39m(epochs):\n\u001b[1;32m----> <a href='vscode-notebook-cell:/c%3A/Users/renax/Desktop/ACO/S9/Machine_Learning/ML_Conf/Projet_ML2023/PetitModele.ipynb#W6sZmlsZQ%3D%3D?line=2'>3</a>\u001b[0m     \u001b[39mfor\u001b[39;00m images, labels \u001b[39min\u001b[39;00m train_loader:\n\u001b[0;32m      <a href='vscode-notebook-cell:/c%3A/Users/renax/Desktop/ACO/S9/Machine_Learning/ML_Conf/Projet_ML2023/PetitModele.ipynb#W6sZmlsZQ%3D%3D?line=3'>4</a>\u001b[0m         optimizer\u001b[39m.\u001b[39mzero_grad()\n\u001b[0;32m      <a href='vscode-notebook-cell:/c%3A/Users/renax/Desktop/ACO/S9/Machine_Learning/ML_Conf/Projet_ML2023/PetitModele.ipynb#W6sZmlsZQ%3D%3D?line=4'>5</a>\u001b[0m         outputs \u001b[39m=\u001b[39m model(images)\n",
      "File \u001b[1;32mc:\\Users\\renax\\Desktop\\ACO\\S9\\Machine_Learning\\ML_Conf\\Projet_ML2023\\.conda\\lib\\site-packages\\torch\\utils\\data\\dataloader.py:438\u001b[0m, in \u001b[0;36mDataLoader.__iter__\u001b[1;34m(self)\u001b[0m\n\u001b[0;32m    436\u001b[0m     \u001b[39mreturn\u001b[39;00m \u001b[39mself\u001b[39m\u001b[39m.\u001b[39m_iterator\n\u001b[0;32m    437\u001b[0m \u001b[39melse\u001b[39;00m:\n\u001b[1;32m--> 438\u001b[0m     \u001b[39mreturn\u001b[39;00m \u001b[39mself\u001b[39;49m\u001b[39m.\u001b[39;49m_get_iterator()\n",
      "File \u001b[1;32mc:\\Users\\renax\\Desktop\\ACO\\S9\\Machine_Learning\\ML_Conf\\Projet_ML2023\\.conda\\lib\\site-packages\\torch\\utils\\data\\dataloader.py:386\u001b[0m, in \u001b[0;36mDataLoader._get_iterator\u001b[1;34m(self)\u001b[0m\n\u001b[0;32m    384\u001b[0m \u001b[39melse\u001b[39;00m:\n\u001b[0;32m    385\u001b[0m     \u001b[39mself\u001b[39m\u001b[39m.\u001b[39mcheck_worker_number_rationality()\n\u001b[1;32m--> 386\u001b[0m     \u001b[39mreturn\u001b[39;00m _MultiProcessingDataLoaderIter(\u001b[39mself\u001b[39;49m)\n",
      "File \u001b[1;32mc:\\Users\\renax\\Desktop\\ACO\\S9\\Machine_Learning\\ML_Conf\\Projet_ML2023\\.conda\\lib\\site-packages\\torch\\utils\\data\\dataloader.py:1039\u001b[0m, in \u001b[0;36m_MultiProcessingDataLoaderIter.__init__\u001b[1;34m(self, loader)\u001b[0m\n\u001b[0;32m   1032\u001b[0m w\u001b[39m.\u001b[39mdaemon \u001b[39m=\u001b[39m \u001b[39mTrue\u001b[39;00m\n\u001b[0;32m   1033\u001b[0m \u001b[39m# NB: Process.start() actually take some time as it needs to\u001b[39;00m\n\u001b[0;32m   1034\u001b[0m \u001b[39m#     start a process and pass the arguments over via a pipe.\u001b[39;00m\n\u001b[0;32m   1035\u001b[0m \u001b[39m#     Therefore, we only add a worker to self._workers list after\u001b[39;00m\n\u001b[0;32m   1036\u001b[0m \u001b[39m#     it started, so that we do not call .join() if program dies\u001b[39;00m\n\u001b[0;32m   1037\u001b[0m \u001b[39m#     before it starts, and __del__ tries to join but will get:\u001b[39;00m\n\u001b[0;32m   1038\u001b[0m \u001b[39m#     AssertionError: can only join a started process.\u001b[39;00m\n\u001b[1;32m-> 1039\u001b[0m w\u001b[39m.\u001b[39;49mstart()\n\u001b[0;32m   1040\u001b[0m \u001b[39mself\u001b[39m\u001b[39m.\u001b[39m_index_queues\u001b[39m.\u001b[39mappend(index_queue)\n\u001b[0;32m   1041\u001b[0m \u001b[39mself\u001b[39m\u001b[39m.\u001b[39m_workers\u001b[39m.\u001b[39mappend(w)\n",
      "File \u001b[1;32mc:\\Users\\renax\\Desktop\\ACO\\S9\\Machine_Learning\\ML_Conf\\Projet_ML2023\\.conda\\lib\\multiprocessing\\process.py:121\u001b[0m, in \u001b[0;36mBaseProcess.start\u001b[1;34m(self)\u001b[0m\n\u001b[0;32m    118\u001b[0m \u001b[39massert\u001b[39;00m \u001b[39mnot\u001b[39;00m _current_process\u001b[39m.\u001b[39m_config\u001b[39m.\u001b[39mget(\u001b[39m'\u001b[39m\u001b[39mdaemon\u001b[39m\u001b[39m'\u001b[39m), \\\n\u001b[0;32m    119\u001b[0m        \u001b[39m'\u001b[39m\u001b[39mdaemonic processes are not allowed to have children\u001b[39m\u001b[39m'\u001b[39m\n\u001b[0;32m    120\u001b[0m _cleanup()\n\u001b[1;32m--> 121\u001b[0m \u001b[39mself\u001b[39m\u001b[39m.\u001b[39m_popen \u001b[39m=\u001b[39m \u001b[39mself\u001b[39;49m\u001b[39m.\u001b[39;49m_Popen(\u001b[39mself\u001b[39;49m)\n\u001b[0;32m    122\u001b[0m \u001b[39mself\u001b[39m\u001b[39m.\u001b[39m_sentinel \u001b[39m=\u001b[39m \u001b[39mself\u001b[39m\u001b[39m.\u001b[39m_popen\u001b[39m.\u001b[39msentinel\n\u001b[0;32m    123\u001b[0m \u001b[39m# Avoid a refcycle if the target function holds an indirect\u001b[39;00m\n\u001b[0;32m    124\u001b[0m \u001b[39m# reference to the process object (see bpo-30775)\u001b[39;00m\n",
      "File \u001b[1;32mc:\\Users\\renax\\Desktop\\ACO\\S9\\Machine_Learning\\ML_Conf\\Projet_ML2023\\.conda\\lib\\multiprocessing\\context.py:224\u001b[0m, in \u001b[0;36mProcess._Popen\u001b[1;34m(process_obj)\u001b[0m\n\u001b[0;32m    222\u001b[0m \u001b[39m@staticmethod\u001b[39m\n\u001b[0;32m    223\u001b[0m \u001b[39mdef\u001b[39;00m \u001b[39m_Popen\u001b[39m(process_obj):\n\u001b[1;32m--> 224\u001b[0m     \u001b[39mreturn\u001b[39;00m _default_context\u001b[39m.\u001b[39;49mget_context()\u001b[39m.\u001b[39;49mProcess\u001b[39m.\u001b[39;49m_Popen(process_obj)\n",
      "File \u001b[1;32mc:\\Users\\renax\\Desktop\\ACO\\S9\\Machine_Learning\\ML_Conf\\Projet_ML2023\\.conda\\lib\\multiprocessing\\context.py:336\u001b[0m, in \u001b[0;36mSpawnProcess._Popen\u001b[1;34m(process_obj)\u001b[0m\n\u001b[0;32m    333\u001b[0m \u001b[39m@staticmethod\u001b[39m\n\u001b[0;32m    334\u001b[0m \u001b[39mdef\u001b[39;00m \u001b[39m_Popen\u001b[39m(process_obj):\n\u001b[0;32m    335\u001b[0m     \u001b[39mfrom\u001b[39;00m \u001b[39m.\u001b[39;00m\u001b[39mpopen_spawn_win32\u001b[39;00m \u001b[39mimport\u001b[39;00m Popen\n\u001b[1;32m--> 336\u001b[0m     \u001b[39mreturn\u001b[39;00m Popen(process_obj)\n",
      "File \u001b[1;32mc:\\Users\\renax\\Desktop\\ACO\\S9\\Machine_Learning\\ML_Conf\\Projet_ML2023\\.conda\\lib\\multiprocessing\\popen_spawn_win32.py:93\u001b[0m, in \u001b[0;36mPopen.__init__\u001b[1;34m(self, process_obj)\u001b[0m\n\u001b[0;32m     91\u001b[0m \u001b[39mtry\u001b[39;00m:\n\u001b[0;32m     92\u001b[0m     reduction\u001b[39m.\u001b[39mdump(prep_data, to_child)\n\u001b[1;32m---> 93\u001b[0m     reduction\u001b[39m.\u001b[39;49mdump(process_obj, to_child)\n\u001b[0;32m     94\u001b[0m \u001b[39mfinally\u001b[39;00m:\n\u001b[0;32m     95\u001b[0m     set_spawning_popen(\u001b[39mNone\u001b[39;00m)\n",
      "File \u001b[1;32mc:\\Users\\renax\\Desktop\\ACO\\S9\\Machine_Learning\\ML_Conf\\Projet_ML2023\\.conda\\lib\\multiprocessing\\reduction.py:60\u001b[0m, in \u001b[0;36mdump\u001b[1;34m(obj, file, protocol)\u001b[0m\n\u001b[0;32m     58\u001b[0m \u001b[39mdef\u001b[39;00m \u001b[39mdump\u001b[39m(obj, file, protocol\u001b[39m=\u001b[39m\u001b[39mNone\u001b[39;00m):\n\u001b[0;32m     59\u001b[0m \u001b[39m    \u001b[39m\u001b[39m'''Replacement for pickle.dump() using ForkingPickler.'''\u001b[39;00m\n\u001b[1;32m---> 60\u001b[0m     ForkingPickler(file, protocol)\u001b[39m.\u001b[39;49mdump(obj)\n",
      "\u001b[1;31mKeyboardInterrupt\u001b[0m: "
     ]
    }
   ],
   "source": [
    "\n",
    "# Training loop (you can modify this based on your specific requirements)\n",
    "for epoch in range(epochs):\n",
    "    for images, labels in train_loader:\n",
    "        optimizer.zero_grad()\n",
    "        outputs = model(images)\n",
    "        loss = criterion(outputs, labels)\n",
    "        loss.backward()\n",
    "        optimizer.step()\n",
    "\n",
    " # Step the learning rate scheduler at the end of each epoch\n",
    "    lr_scheduler.step()\n",
    "\n",
    "    # Calculate accuracy on the test set (optional)\n",
    "    correct = 0\n",
    "    total = 0\n",
    "    true_labels = []\n",
    "    predicted_labels = []\n",
    "    with torch.no_grad():\n",
    "        for images, labels in test_loader:\n",
    "            outputs = model(images)\n",
    "            _, predicted = torch.max(outputs.data, 1)\n",
    "            total += labels.size(0)\n",
    "            correct += (predicted == labels).sum().item()\n",
    "            true_labels.extend(labels.tolist())\n",
    "            predicted_labels.extend(predicted.tolist())\n",
    "\n",
    "    accuracy = 100 * correct / total\n",
    "    f1 = f1_score(true_labels, predicted_labels, average='weighted') \n",
    "    print(f'Epoch {epoch+1}/{epochs}, Loss: {loss.item()}, Test Accuracy: {accuracy}%, Test F1 Score: {f1}'\n",
    "          \n",
    "          )"
   ]
  },
  {
   "cell_type": "code",
   "execution_count": 22,
   "metadata": {},
   "outputs": [],
   "source": [
    "import pandas as pd\n",
    "data = [\n",
    "    {\"Epoch\": 1, \"Loss\": 1.5420483350753784, \"Test Accuracy\": 39.44069431051109, \"Test F1 Score\": 0.3218016556549692},\n",
    "    {\"Epoch\": 2, \"Loss\": 2.148728847503662, \"Test Accuracy\": 41.1764705882353, \"Test F1 Score\": 0.35407520032941425},\n",
    "    {\"Epoch\": 3, \"Loss\": 1.9140011072158813, \"Test Accuracy\": 47.380263580842175, \"Test F1 Score\": 0.44554185726012013},\n",
    "    {\"Epoch\": 4, \"Loss\": 1.5047839879989624, \"Test Accuracy\": 47.798135647701706, \"Test F1 Score\": 0.4393201539172862},\n",
    "    {\"Epoch\": 5, \"Loss\": 1.446469783782959, \"Test Accuracy\": 52.619736419157825, \"Test F1 Score\": 0.5182733539781756},\n",
    "    {\"Epoch\": 6, \"Loss\": 1.4885807037353516, \"Test Accuracy\": 53.61620057859209, \"Test F1 Score\": 0.5014741383053246},\n",
    "    {\"Epoch\": 7, \"Loss\": 0.7737486362457275, \"Test Accuracy\": 53.61620057859209, \"Test F1 Score\": 0.5219987846126846},\n",
    "    {\"Epoch\": 8, \"Loss\": 0.6761755347251892, \"Test Accuracy\": 57.955641272902604, \"Test F1 Score\": 0.554637046410952},\n",
    "    {\"Epoch\": 9, \"Loss\": 0.6287909150123596, \"Test Accuracy\": 59.65927354548377, \"Test F1 Score\": 0.5822755831332929},\n",
    "    {\"Epoch\": 10, \"Loss\": 0.7971015572547913, \"Test Accuracy\": 56.57344905175185, \"Test F1 Score\": 0.5698330428539798},\n",
    "    {\"Epoch\": 11, \"Loss\": 0.2733096182346344, \"Test Accuracy\": 62.90581806493089, \"Test F1 Score\": 0.6228151899432891},\n",
    "    {\"Epoch\": 12, \"Loss\": 0.3167931139469147, \"Test Accuracy\": 63.67727418836387, \"Test F1 Score\": 0.628057343597984},\n",
    "    {\"Epoch\": 13, \"Loss\": 0.09495073556900024, \"Test Accuracy\": 63.51655416264867, \"Test F1 Score\": 0.6367726961796616},\n",
    "    {\"Epoch\": 14, \"Loss\": 0.1318705826997757, \"Test Accuracy\": 65.22018643522983, \"Test F1 Score\": 0.6463021136763489},\n",
    "    {\"Epoch\": 15, \"Loss\": 0.03395581990480423, \"Test Accuracy\": 65.60591449694633, \"Test F1 Score\": 0.6436704350665781},\n",
    "    {\"Epoch\": 16, \"Loss\": 0.019811851903796196, \"Test Accuracy\": 67.53455480552877, \"Test F1 Score\": 0.6704217790848643},\n",
    "    {\"Epoch\": 17, \"Loss\": 0.06294342875480652, \"Test Accuracy\": 66.66666666666667, \"Test F1 Score\": 0.6607348354305081},\n",
    "    {\"Epoch\": 18, \"Loss\": 0.006738824304193258, \"Test Accuracy\": 68.04885888781742, \"Test F1 Score\": 0.6782310747562115},\n",
    "    {\"Epoch\": 19, \"Loss\": 0.015703903511166573, \"Test Accuracy\": 67.88813886210222, \"Test F1 Score\": 0.6753990122923855},\n",
    "    {\"Epoch\": 20, \"Loss\": 0.0074675739742815495, \"Test Accuracy\": 68.04885888781742, \"Test F1 Score\": 0.6769057035348437},\n",
    "    {\"Epoch\": 21, \"Loss\": 0.003892592154443264, \"Test Accuracy\": 68.2738669238187, \"Test F1 Score\": 0.6772011228122824},\n",
    "    {\"Epoch\": 22, \"Loss\": 0.00593643868342042, \"Test Accuracy\": 67.82385085181613, \"Test F1 Score\": 0.6742661355736645},\n",
    "    {\"Epoch\": 23, \"Loss\": 0.011993876658380032, \"Test Accuracy\": 68.01671488267438, \"Test F1 Score\": 0.6760815794382526},\n",
    "    {\"Epoch\": 24, \"Loss\": 0.012240630574524403, \"Test Accuracy\": 67.88813886210222, \"Test F1 Score\": 0.6759522217759766},\n",
    "    {\"Epoch\": 25, \"Loss\": 0.0038860745262354612, \"Test Accuracy\": 67.88813886210222, \"Test F1 Score\": 0.6738263629421145},\n",
    "    {\"Epoch\": 26, \"Loss\": 0.006012689787894487, \"Test Accuracy\": 67.98457087753134, \"Test F1 Score\": 0.6772525285225807},\n",
    "    {\"Epoch\": 27, \"Loss\": 0.00532130291685462, \"Test Accuracy\": 68.11314689810351, \"Test F1 Score\": 0.6762439628299233},\n",
    "    {\"Epoch\": 28, \"Loss\": 0.005167136434465647, \"Test Accuracy\": 68.08100289296047, \"Test F1 Score\": 0.6760904748991196},\n",
    "    {\"Epoch\": 29, \"Loss\": 0.005061861593276262, \"Test Accuracy\": 67.9524268723883, \"Test F1 Score\": 0.6746514581541561},\n",
    "    {\"Epoch\": 30, \"Loss\": 0.0026662417221814394, \"Test Accuracy\": 67.69527483124398, \"Test F1 Score\": 0.6743557425782573},\n",
    "]\n",
    "\n",
    "df = pd.DataFrame(data)\n",
    "# print(df)"
   ]
  },
  {
   "cell_type": "code",
   "execution_count": 23,
   "metadata": {},
   "outputs": [
    {
     "data": {
      "text/plain": [
       "0.44554185726012013"
      ]
     },
     "execution_count": 23,
     "metadata": {},
     "output_type": "execute_result"
    }
   ],
   "source": [
    "df.at[2,\"Test F1 Score\"]"
   ]
  },
  {
   "cell_type": "code",
   "execution_count": 24,
   "metadata": {},
   "outputs": [
    {
     "data": {
      "image/png": "[encoded data removed]",
      "text/plain": [
       "<Figure size 640x480 with 1 Axes>"
      ]
     },
     "metadata": {},
     "output_type": "display_data"
    }
   ],
   "source": [
    "\n",
    "# Créez des listes vides pour stocker les valeurs de l'axe x (époques) et y (F1 Score)\n",
    "x_epochs = []\n",
    "y_accuracy = []\n",
    "\n",
    "# Parcourez les données et stockez les valeurs dans les listes\n",
    "for n_epochs in range(0, 29):\n",
    "    x_epochs.append(n_epochs + 1)  # Époque commence à 1\n",
    "    y_accuracy.append(df.at[n_epochs, \"Test Accuracy\"])\n",
    "\n",
    "# Tracer les données\n",
    "plt.plot(x_epochs, y_accuracy, label='Accuracy Validation',color='orange')\n",
    "plt.xlabel('Epoch')\n",
    "plt.ylabel('Accuracy ')\n",
    "plt.ylim(0, 100)\n",
    "plt.legend()\n",
    "plt.title('Accuracy_Notre_Modèle')\n",
    "plt.show()\n"
   ]
  }
 ],
 "metadata": {
  "kernelspec": {
   "display_name": "Python 3",
   "language": "python",
   "name": "python3"
  },
  "language_info": {
   "codemirror_mode": {
    "name": "ipython",
    "version": 3
   },
   "file_extension": ".py",
   "mimetype": "text/x-python",
   "name": "python",
   "nbconvert_exporter": "python",
   "pygments_lexer": "ipython3",
   "version": "3.10.13"
  }
 },
 "nbformat": 4,
 "nbformat_minor": 2
}
